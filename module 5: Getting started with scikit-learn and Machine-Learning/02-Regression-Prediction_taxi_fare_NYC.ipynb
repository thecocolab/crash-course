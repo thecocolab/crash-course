{
 "cells": [
  {
   "cell_type": "markdown",
   "id": "muslim-foster",
   "metadata": {
    "papermill": {
     "duration": 0.030686,
     "end_time": "2021-04-27T21:48:22.654070",
     "exception": false,
     "start_time": "2021-04-27T21:48:22.623384",
     "status": "completed"
    },
    "tags": []
   },
   "source": [
    "# **Introduction**\n",
    "\n",
    "Greetings,\n",
    "\n",
    "Welcome to this hands-on exercise notebook where we embark on a journey to tackle a regression task: predicting the fare amount for taxi trips in New York City. Throughout this tutorial, our focus will be on handling outliers, cleaning data, engineering essential features, and ultimately training a Random Forest Regressor model.\n",
    "\n",
    "## **Overview**\n",
    "\n",
    "### **1. Problem Statement**\n",
    "Before we delve into the technical aspects, let's define the problem at hand. Our objective is to build a regression model capable of predicting the fare amount for taxi trips in New York City. This entails predicting a continuous numerical value, making it a regression task.\n",
    "\n",
    "### **2. Dataset**\n",
    "The dataset we'll be working with contains various features related to taxi trips, including distance, pickup/dropoff locations, passenger count, and, most importantly, the fare amount. Similar to the Titanic tutorial, the dataset is divided into a training set for model development and a test set for evaluation.\n",
    "\n",
    "**Dataset Download:**\n",
    "To follow along, you can access the [dataset](https://www.kaggle.com/competitions/new-york-city-taxi-fare-prediction/data) from Kaggle. Ensure that the files are in the same folder as this notebook.\n",
    "\n",
    "This tutorial will guide you through the essential steps of regression analysis, providing a practical and informative introduction to machine learning applied to regression tasks. Let's get started!"
   ]
  },
  {
   "cell_type": "markdown",
   "id": "bronze-model",
   "metadata": {
    "papermill": {
     "duration": 0.028636,
     "end_time": "2021-04-27T21:48:22.712095",
     "exception": false,
     "start_time": "2021-04-27T21:48:22.683459",
     "status": "completed"
    },
    "tags": []
   },
   "source": [
    "# **Table of Contents**\n",
    "\n",
    "## 1. Loading Data and Exploratory Data Analysis (EDA)\n",
    "\n",
    "In this section, we will concentrate on loading the dataset and conducting initial Exploratory Data Analysis (EDA) to gain insights into the structure and nature of the data. This step is crucial for understanding the dataset's characteristics before further processing.\n",
    "\n",
    "**Tasks:**\n",
    "- Load the dataset into a Pandas DataFrame.\n",
    "- Display basic statistics using `describe()` and investigate the first few rows using `head()`.\n",
    "- Visualize key features to identify patterns or trends.\n",
    "\n",
    "## 2. Data Processing\n",
    "\n",
    "### 2.1 Data Cleaning: Dealing with Outliers\n",
    "\n",
    "Addressing outliers is a critical step in preparing the dataset for modeling. In this section, we'll explore strategies to handle outliers, ensuring our data is ready for the machine learning pipeline.\n",
    "\n",
    "**Tasks:**\n",
    "- Identify and analyze outliers.\n",
    "- Implement appropriate strategies such as removal or transformation.\n",
    "\n",
    "### 2.2 Feature Engineering\n",
    "\n",
    "Feature engineering involves creating new features or modifying existing ones to enhance the model's performance. In this section, we'll delve into feature engineering techniques.\n",
    "\n",
    "**Tasks:**\n",
    "- Create relevant features that might contribute to the predictive power of the model.\n",
    "\n",
    "### 2.3 Normalization\n",
    "\n",
    "Normalization ensures that numerical features are on a consistent scale, preventing certain features from dominating others. We'll incorporate normalization into our data processing pipeline.\n",
    "\n",
    "**Tasks:**\n",
    "- Implement normalization techniques to scale numerical features.\n",
    "\n",
    "## 3. Training, Predictions, and Submitting Results\n",
    "\n",
    "### 3.1 Training\n",
    "\n",
    "With the data preprocessed, we can move on to the modeling phase. In this section, we'll explore different machine learning models and train them on our processed dataset.\n",
    "\n",
    "**Tasks:**\n",
    "- Select a set of regression models.\n",
    "- Train the models using the processed data.\n",
    "\n",
    "### 3.2 Predictions\n",
    "\n",
    "After training the models, we'll use them to make predictions on the test set.\n",
    "\n",
    "**Tasks:**\n",
    "- Generate predictions on the test set using the trained models.\n",
    "\n",
    "### 3.3 Submitting Results\n",
    "\n",
    "The final step involves preparing the results, including creating a submission file in the required format.\n",
    "\n",
    "**Tasks:**\n",
    "- Create a submission file with the predicted fare amounts.\n",
    "- Optionally, submit the results on Kaggle to assess your performance."
   ]
  },
  {
   "cell_type": "code",
   "execution_count": 1,
   "id": "electrical-navigation",
   "metadata": {
    "_cell_guid": "b1076dfc-b9ad-4769-8c92-a6c4dae69d19",
    "_uuid": "8f2839f25d086af736a60e9eeb907d3b93b6e0e5",
    "execution": {
     "iopub.execute_input": "2021-04-27T21:48:22.784482Z",
     "iopub.status.busy": "2021-04-27T21:48:22.783790Z",
     "iopub.status.idle": "2021-04-27T21:48:24.241154Z",
     "shell.execute_reply": "2021-04-27T21:48:24.240233Z"
    },
    "papermill": {
     "duration": 1.499415,
     "end_time": "2021-04-27T21:48:24.241356",
     "exception": false,
     "start_time": "2021-04-27T21:48:22.741941",
     "status": "completed"
    },
    "tags": []
   },
   "outputs": [],
   "source": [
    "# setting up the libraries that we will need \n",
    "import pandas as pd\n",
    "import numpy as npimport matplotlib.pyplot as plt\n",
    "\n",
    "from sklearn.ensemble import RandomForestRegressor\n",
    "from sklearn.pipeline import Pipeline\n",
    "from sklearn.base import BaseEstimator, TransformerMixin\n",
    "from sklearn.model_selection import GridSearchCV, cross_val_score\n",
    "%matplotlib inline\n",
    "import warnings\n",
    "warnings.filterwarnings(\"ignore\")"
   ]
  },
  {
   "cell_type": "markdown",
   "id": "involved-photographer",
   "metadata": {
    "papermill": {
     "duration": 0.029264,
     "end_time": "2021-04-27T21:48:24.300638",
     "exception": false,
     "start_time": "2021-04-27T21:48:24.271374",
     "status": "completed"
    },
    "tags": []
   },
   "source": [
    "## **1. Loading Data and Exploratory Data Analysis (EDA):**\n",
    "\n",
    "The New York City fare prediction dataset comprises a vast 55 million lines. However, due to memory constraints, we will focus our analysis on the first 2 million lines. This subset will provide us with a representative sample to perform our initial exploration and gain valuable insights into the dataset's structure and characteristics."
   ]
  },
  {
   "cell_type": "code",
   "execution_count": 2,
   "id": "accessory-jurisdiction",
   "metadata": {
    "execution": {
     "iopub.execute_input": "2021-04-27T21:48:24.366543Z",
     "iopub.status.busy": "2021-04-27T21:48:24.365654Z",
     "iopub.status.idle": "2021-04-27T21:48:31.385325Z",
     "shell.execute_reply": "2021-04-27T21:48:31.384648Z"
    },
    "papermill": {
     "duration": 7.055525,
     "end_time": "2021-04-27T21:48:31.385463",
     "exception": false,
     "start_time": "2021-04-27T21:48:24.329938",
     "status": "completed"
    },
    "tags": []
   },
   "outputs": [],
   "source": [
    "# loading the data\n",
    "train = pd.read_csv(\"train.csv\", nrows= 2000000)\n",
    "test = pd.read_csv(\"test.csv\")\n",
    "train.name = \"Train\"\n",
    "test.name = \"Test\""
   ]
  },
  {
   "cell_type": "code",
   "execution_count": null,
   "id": "capable-penny",
   "metadata": {
    "execution": {
     "iopub.execute_input": "2021-04-27T21:48:31.450360Z",
     "iopub.status.busy": "2021-04-27T21:48:31.449648Z",
     "iopub.status.idle": "2021-04-27T21:48:31.451915Z",
     "shell.execute_reply": "2021-04-27T21:48:31.452371Z"
    },
    "papermill": {
     "duration": 0.037483,
     "end_time": "2021-04-27T21:48:31.452589",
     "exception": false,
     "start_time": "2021-04-27T21:48:31.415106",
     "status": "completed"
    },
    "tags": []
   },
   "outputs": [],
   "source": [
    "# Get the plot_correlations from the previous fnotebook and adapt it to our needs"
   ]
  },
  {
   "cell_type": "code",
   "execution_count": null,
   "id": "numerous-escape",
   "metadata": {
    "execution": {
     "iopub.execute_input": "2021-04-27T21:48:31.515490Z",
     "iopub.status.busy": "2021-04-27T21:48:31.514833Z",
     "iopub.status.idle": "2021-04-27T21:48:31.542899Z",
     "shell.execute_reply": "2021-04-27T21:48:31.543375Z"
    },
    "papermill": {
     "duration": 0.061323,
     "end_time": "2021-04-27T21:48:31.543576",
     "exception": false,
     "start_time": "2021-04-27T21:48:31.482253",
     "status": "completed"
    },
    "tags": []
   },
   "outputs": [],
   "source": [
    "#data exploration: print the first 5 rows of the train dataset\n",
    "train.ADD CODE HERE"
   ]
  },
  {
   "cell_type": "code",
   "execution_count": null,
   "id": "constant-contest",
   "metadata": {
    "execution": {
     "iopub.execute_input": "2021-04-27T21:48:31.625287Z",
     "iopub.status.busy": "2021-04-27T21:48:31.624576Z",
     "iopub.status.idle": "2021-04-27T21:48:31.628892Z",
     "shell.execute_reply": "2021-04-27T21:48:31.628265Z"
    },
    "papermill": {
     "duration": 0.054376,
     "end_time": "2021-04-27T21:48:31.629040",
     "exception": false,
     "start_time": "2021-04-27T21:48:31.574664",
     "status": "completed"
    },
    "tags": []
   },
   "outputs": [],
   "source": [
    "# data exploration: get the infor the describe\n",
    "ADD CODE HERE"
   ]
  },
  {
   "cell_type": "code",
   "execution_count": null,
   "id": "hungry-treaty",
   "metadata": {
    "execution": {
     "iopub.execute_input": "2021-04-27T21:48:31.695124Z",
     "iopub.status.busy": "2021-04-27T21:48:31.694433Z",
     "iopub.status.idle": "2021-04-27T21:48:32.410397Z",
     "shell.execute_reply": "2021-04-27T21:48:32.409798Z"
    },
    "papermill": {
     "duration": 0.750821,
     "end_time": "2021-04-27T21:48:32.410581",
     "exception": false,
     "start_time": "2021-04-27T21:48:31.659760",
     "status": "completed"
    },
    "tags": []
   },
   "outputs": [],
   "source": [
    "ADD CODE HERE"
   ]
  },
  {
   "cell_type": "code",
   "execution_count": null,
   "id": "certain-climb",
   "metadata": {
    "execution": {
     "iopub.execute_input": "2021-04-27T21:48:32.948631Z",
     "iopub.status.busy": "2021-04-27T21:48:32.947403Z",
     "iopub.status.idle": "2021-04-27T21:48:33.024712Z",
     "shell.execute_reply": "2021-04-27T21:48:33.024055Z"
    },
    "papermill": {
     "duration": 0.117644,
     "end_time": "2021-04-27T21:48:33.024909",
     "exception": false,
     "start_time": "2021-04-27T21:48:32.907265",
     "status": "completed"
    },
    "tags": []
   },
   "outputs": [],
   "source": [
    "# Extracting and Analyzing Coordinate Columns\n",
    "\n",
    "# Define the columns containing geographic coordinates\n",
    "coordinates_columns = ['pickup_latitude', 'pickup_longitude', 'dropoff_latitude', 'dropoff_longitude']\n",
    "\n",
    "# Combine both the training and test datasets for comprehensive analysis\n",
    "combined_datasets = [train, test]\n",
    "\n",
    "# Iterate over each coordinate column and dataset\n",
    "for coord in coordinates_columns:\n",
    "    for dataset in combined_datasets:\n",
    "        # Find the maximum and minimum values for the current coordinate column\n",
    "        max_value = dataset[coord].max()\n",
    "        min_value = dataset[coord].min()\n",
    "        \n",
    "        # Display the range of coordinates in the current dataset\n",
    "        print(f\"Range of {coord} in {dataset.name} dataset: ({max_value:.3f}, {min_value:.3f})\")\n",
    "\n",
    "# Clear the combined datasets from memory\n",
    "del combined_datasets\n"
   ]
  },
  {
   "cell_type": "code",
   "execution_count": null,
   "id": "flexible-victoria",
   "metadata": {
    "execution": {
     "iopub.execute_input": "2021-04-27T21:48:33.106290Z",
     "iopub.status.busy": "2021-04-27T21:48:33.105595Z",
     "iopub.status.idle": "2021-04-27T21:48:33.117834Z",
     "shell.execute_reply": "2021-04-27T21:48:33.116762Z"
    },
    "papermill": {
     "duration": 0.058946,
     "end_time": "2021-04-27T21:48:33.118080",
     "exception": false,
     "start_time": "2021-04-27T21:48:33.059134",
     "status": "completed"
    },
    "tags": []
   },
   "outputs": [],
   "source": [
    "#What is the distribution of passenger counts in the test and train datasets?\n",
    "ADD CODE HERE\n",
    "ADD CODE HERE"
   ]
  },
  {
   "cell_type": "code",
   "execution_count": null,
   "id": "molecular-hydrogen",
   "metadata": {
    "execution": {
     "iopub.execute_input": "2021-04-27T21:48:33.300978Z",
     "iopub.status.busy": "2021-04-27T21:48:33.300106Z",
     "iopub.status.idle": "2021-04-27T21:48:33.329812Z",
     "shell.execute_reply": "2021-04-27T21:48:33.330277Z"
    },
    "papermill": {
     "duration": 0.069742,
     "end_time": "2021-04-27T21:48:33.330473",
     "exception": false,
     "start_time": "2021-04-27T21:48:33.260731",
     "status": "completed"
    },
    "tags": []
   },
   "outputs": [],
   "source": [
    "# How many instances in the training dataset have a negative fare amount?\n",
    "ADD CODE HERE\n"
   ]
  },
  {
   "cell_type": "markdown",
   "id": "a941adf7",
   "metadata": {},
   "source": [
    "Isn't it strange that some of the fares are negative? Let's remove them from the training dataset.\n",
    "Always when working on a dataset and exploring the columns. Some domain knowladge is required to make sure what we are doing makes sense."
   ]
  },
  {
   "cell_type": "markdown",
   "id": "included-childhood",
   "metadata": {
    "papermill": {
     "duration": 0.037253,
     "end_time": "2021-04-27T21:48:33.404502",
     "exception": false,
     "start_time": "2021-04-27T21:48:33.367249",
     "status": "completed"
    },
    "tags": []
   },
   "source": [
    "**Improvement:**\n",
    "The geographical coordinates of New York City typically range from approximately 71° 47' 25\" W to 79° 45' 54\" W for longitude and 40° 29' 40\" N to 45° 0' 42\" N for latitude. However, within this dataset, some instances exhibit anomalous values, such as longitude around 3457 and latitude near 3344. Conversely, the test data aligns more closely with the expected boundaries for NYC longitude and latitude.\n",
    "\n",
    "Similar outliers are observed in other features, including passenger counts exceeding 280 or being equal to 0, as well as instances with negative fare amounts. These outliers will be addressed and removed during the data processing section to ensure the integrity and reliability of the dataset for subsequent analysis."
   ]
  },
  {
   "cell_type": "code",
   "execution_count": 13,
   "id": "smart-thanks",
   "metadata": {
    "execution": {
     "iopub.execute_input": "2021-04-27T21:48:33.482022Z",
     "iopub.status.busy": "2021-04-27T21:48:33.480972Z",
     "iopub.status.idle": "2021-04-27T21:48:33.551134Z",
     "shell.execute_reply": "2021-04-27T21:48:33.551720Z"
    },
    "papermill": {
     "duration": 0.11239,
     "end_time": "2021-04-27T21:48:33.551948",
     "exception": false,
     "start_time": "2021-04-27T21:48:33.439558",
     "status": "completed"
    },
    "tags": []
   },
   "outputs": [],
   "source": [
    "# create a an fare amount category attribute with five bins to understand better this attribute\n",
    "train[\"fare_amount_1\"]=pd.cut(train[\"fare_amount\"],\n",
    "                            bins=[0., 6.0,12.,48.,150., np.inf],\n",
    "                                  labels = [1,2,3,4,5])"
   ]
  },
  {
   "cell_type": "code",
   "execution_count": 14,
   "id": "starting-march",
   "metadata": {
    "execution": {
     "iopub.execute_input": "2021-04-27T21:48:33.626633Z",
     "iopub.status.busy": "2021-04-27T21:48:33.625823Z",
     "iopub.status.idle": "2021-04-27T21:48:33.906278Z",
     "shell.execute_reply": "2021-04-27T21:48:33.906865Z"
    },
    "papermill": {
     "duration": 0.319634,
     "end_time": "2021-04-27T21:48:33.907088",
     "exception": false,
     "start_time": "2021-04-27T21:48:33.587454",
     "status": "completed"
    },
    "tags": []
   },
   "outputs": [
    {
     "data": {
      "text/plain": [
       "<AxesSubplot:>"
      ]
     },
     "execution_count": 14,
     "metadata": {},
     "output_type": "execute_result"
    },
    {
     "data": {
      "image/png": "[encoded data removed]",
      "text/plain": [
       "<Figure size 432x288 with 1 Axes>"
      ]
     },
     "metadata": {
      "needs_background": "light"
     },
     "output_type": "display_data"
    }
   ],
   "source": [
    "train[\"fare_amount_1\"].hist()"
   ]
  },
  {
   "cell_type": "code",
   "execution_count": null,
   "id": "tutorial-stroke",
   "metadata": {
    "execution": {
     "iopub.execute_input": "2021-04-27T21:48:33.985879Z",
     "iopub.status.busy": "2021-04-27T21:48:33.985145Z",
     "iopub.status.idle": "2021-04-27T21:48:34.003189Z",
     "shell.execute_reply": "2021-04-27T21:48:34.003713Z"
    },
    "papermill": {
     "duration": 0.059462,
     "end_time": "2021-04-27T21:48:34.003911",
     "exception": false,
     "start_time": "2021-04-27T21:48:33.944449",
     "status": "completed"
    },
    "tags": []
   },
   "outputs": [],
   "source": [
    "# Provide the distribution of values in the 'fare_amount_1' column of the training dataset?\n",
    "ADD CODE HERE"
   ]
  },
  {
   "cell_type": "markdown",
   "id": "hundred-guidance",
   "metadata": {
    "papermill": {
     "duration": 0.037935,
     "end_time": "2021-04-27T21:48:34.080731",
     "exception": false,
     "start_time": "2021-04-27T21:48:34.042796",
     "status": "completed"
    },
    "tags": []
   },
   "source": [
    "The majority of fare amounts fall within the range of 6 to 12 USD, with a relatively even distribution between 0 to 6 USD and 12 to 48 USD. However, values exceeding 150 USD are considered unrealistic. Although there are approximately 200 instances with such values, their presence may adversely impact the model. As a result, we plan to address and remove these outliers during the data processing section to enhance the robustness of our model."
   ]
  },
  {
   "cell_type": "code",
   "execution_count": 16,
   "id": "serial-helmet",
   "metadata": {
    "execution": {
     "iopub.execute_input": "2021-04-27T21:48:34.159697Z",
     "iopub.status.busy": "2021-04-27T21:48:34.158956Z",
     "iopub.status.idle": "2021-04-27T21:48:34.165867Z",
     "shell.execute_reply": "2021-04-27T21:48:34.166393Z"
    },
    "papermill": {
     "duration": 0.048635,
     "end_time": "2021-04-27T21:48:34.166600",
     "exception": false,
     "start_time": "2021-04-27T21:48:34.117965",
     "status": "completed"
    },
    "tags": []
   },
   "outputs": [],
   "source": [
    "# Create a dictionary with NYC coordinates that will be used in deleting outliers\n",
    "coordinates = {'min_long': ADD CODE HERE, ADD CODE HERE),\n",
    "              'max_long': ADD CODE HERE, ADD CODE HERE),\n",
    "              'min_lat': ADD CODE HERE, ADD CODE HERE),\n",
    "              'max_lat' : ADD CODE HERE, ADD CODE HERE),}"
   ]
  },
  {
   "cell_type": "code",
   "execution_count": 17,
   "id": "positive-raising",
   "metadata": {
    "execution": {
     "iopub.execute_input": "2021-04-27T21:48:34.244096Z",
     "iopub.status.busy": "2021-04-27T21:48:34.243411Z",
     "iopub.status.idle": "2021-04-27T21:48:34.247409Z",
     "shell.execute_reply": "2021-04-27T21:48:34.247987Z"
    },
    "papermill": {
     "duration": 0.045122,
     "end_time": "2021-04-27T21:48:34.248173",
     "exception": false,
     "start_time": "2021-04-27T21:48:34.203051",
     "status": "completed"
    },
    "tags": []
   },
   "outputs": [],
   "source": [
    "# To enhance the clarity of our data visualization, we will utilize `plt.xlim` to set specific boundaries on \n",
    "# the x-axis during plotting. This focused view will provide a more detailed observation of the data distribution.\n",
    "\n",
    "# Define city borders for limiting axes during plotting\n",
    "city_long_border = (-74.03, -73.75)\n",
    "city_lat_border = (40.63, 40.85)"
   ]
  },
  {
   "cell_type": "code",
   "execution_count": 18,
   "id": "substantial-jordan",
   "metadata": {
    "execution": {
     "iopub.execute_input": "2021-04-27T21:48:34.334190Z",
     "iopub.status.busy": "2021-04-27T21:48:34.333424Z",
     "iopub.status.idle": "2021-04-27T21:48:36.346119Z",
     "shell.execute_reply": "2021-04-27T21:48:36.345537Z"
    },
    "papermill": {
     "duration": 2.060404,
     "end_time": "2021-04-27T21:48:36.346271",
     "exception": false,
     "start_time": "2021-04-27T21:48:34.285867",
     "status": "completed"
    },
    "tags": []
   },
   "outputs": [
    {
     "data": {
      "text/plain": [
       "(-74.03, -73.75)"
      ]
     },
     "execution_count": 18,
     "metadata": {},
     "output_type": "execute_result"
    },
    {
     "data": {
      "image/png": "[encoded data removed]",
      "text/plain": [
       "<Figure size 432x288 with 1 Axes>"
      ]
     },
     "metadata": {
      "needs_background": "light"
     },
     "output_type": "display_data"
    }
   ],
   "source": [
    "filtered_data = train[\n",
    "    (train['pickup_longitude'] >= coordinates['min_long']) & \n",
    "    (train['pickup_longitude'] <= coordinates['max_long']) & \n",
    "    (train['pickup_latitude'] >= coordinates['min_lat']) & \n",
    "    (train['pickup_latitude'] <= coordinates['max_lat']) &\n",
    "    (train['dropoff_longitude'] >= coordinates['min_long']) &\n",
    "    (train['dropoff_longitude'] <= coordinates['max_long']) &\n",
    "    (train['dropoff_latitude'] >= coordinates['min_lat']) & \n",
    "    (train['dropoff_latitude'] <= coordinates['max_lat'])\n",
    "]\n",
    "\n",
    "filtered_data.plot(kind='scatter', x='pickup_longitude', y='pickup_latitude', s=0.02, alpha=0.4)\n",
    "plt.ylim(city_lat_border)\n",
    "plt.xlim(city_long_border)"
   ]
  },
  {
   "cell_type": "markdown",
   "id": "piano-alfred",
   "metadata": {
    "papermill": {
     "duration": 0.04051,
     "end_time": "2021-04-27T21:48:36.428227",
     "exception": false,
     "start_time": "2021-04-27T21:48:36.387717",
     "status": "completed"
    },
    "tags": []
   },
   "source": [
    "Upon visualizing the pickup data from the training set, a map resembling NYC is evident. Notably, three specific locations exhibit a high pickup density, which correspond to key airports:\n",
    "- JFK Airport\n",
    "- LaGuardia Airport\n",
    "\n",
    "It's worth mentioning that NYC has another airport, namely Newark Airport. Leveraging this geographical insight, we can generate additional features indicating whether a pickup or dropoff occurred at each airport. This expanded feature set could potentially enhance our model's predictive capabilities."
   ]
  },
  {
   "cell_type": "markdown",
   "id": "decreased-superior",
   "metadata": {
    "papermill": {
     "duration": 0.040031,
     "end_time": "2021-04-27T21:48:36.509143",
     "exception": false,
     "start_time": "2021-04-27T21:48:36.469112",
     "status": "completed"
    },
    "tags": []
   },
   "source": [
    "## **2. Data Processing**\n",
    "### 2.1 Data Cleaning: Handling Outliers\n",
    "As identified in the previous section, our dataset exhibits numerous outliers that could adversely impact our model's performance. Therefore, in this step, we will address this issue by removing such outliers.\n",
    "\n",
    "* Remove rows with negative or fare amounts exceeding 150 USD.\n",
    "* Eliminate rows with unrealistic coordinates.\n",
    "* Round coordinates to three decimal places for computational efficiency."
   ]
  },
  {
   "cell_type": "code",
   "execution_count": 19,
   "id": "applicable-retrieval",
   "metadata": {
    "execution": {
     "iopub.execute_input": "2021-04-27T21:48:36.720540Z",
     "iopub.status.busy": "2021-04-27T21:48:36.719699Z",
     "iopub.status.idle": "2021-04-27T21:48:36.723557Z",
     "shell.execute_reply": "2021-04-27T21:48:36.724022Z"
    },
    "papermill": {
     "duration": 0.174508,
     "end_time": "2021-04-27T21:48:36.724204",
     "exception": false,
     "start_time": "2021-04-27T21:48:36.549696",
     "status": "completed"
    },
    "tags": []
   },
   "outputs": [],
   "source": [
    "class DataCleaning(BaseEstimator, TransformerMixin):\n",
    "    def __init__(self):\n",
    "        pass\n",
    "    \n",
    "    def fit(self, X, y=None):\n",
    "        return self\n",
    "    \n",
    "    def transform(self, X):\n",
    "        initial_length = len(X)\n",
    "        \n",
    "        if X.name == 'Train':\n",
    "\n",
    "            # Remove rows with unrealistic fare amounts: Negative and superior to 150\n",
    "            X = ADD CODE HERE\n",
    "            \n",
    "            # Drop the 'fare_amount_1' feature as it's no longer needed\n",
    "            X = ADD CODE HERE\n",
    "            \n",
    "            # Remove rows with invalid passenger counts: Less than zero and more than 8\n",
    "            X = ADD CODE HERE\n",
    "            \n",
    "            # Remove rows with unrealistic pickup and dropoff coordinates\n",
    "            X = ADD CODE HERE\n",
    "            X = ADD CODE HERE\n",
    "            X = ADD CODE HERE\n",
    "            X = ADD CODE HERE\n",
    "\n",
    "        # Round coordinates to three decimal places for computational efficiency\n",
    "        X.pickup_longitude = X.pickup_longitude.apply(lambda x: round(x, 3))\n",
    "        X.pickup_latitude = X.pickup_latitude.apply(lambda x: round(x, 3))\n",
    "        X.dropoff_longitude = X.dropoff_longitude.apply(lambda x: round(x, 3))\n",
    "        X.dropoff_latitude = X.dropoff_latitude.apply(lambda x: round(x, 3))\n",
    "\n",
    "        deleted_rows = initial_length - len(X)\n",
    "        print(f\"{deleted_rows} rows have been deleted.\")\n",
    "\n",
    "        return X\n"
   ]
  },
  {
   "cell_type": "markdown",
   "id": "directed-requirement",
   "metadata": {
    "papermill": {
     "duration": 0.040927,
     "end_time": "2021-04-27T21:48:36.806713",
     "exception": false,
     "start_time": "2021-04-27T21:48:36.765786",
     "status": "completed"
    },
    "tags": []
   },
   "source": [
    "### 2.2 Feature Engineering:\n",
    "\n",
    "The dataset initially provides only 5 features, which might be insufficient for training a robust model. To enhance the feature set, we will incorporate additional attributes.\n",
    "\n",
    "#### 2.2.1 Extracting Date and Time:\n",
    "\n",
    "Utilizing the existing date attribute, which is not in a format conducive to analysis, we will derive 5 new attributes:\n",
    "- Year\n",
    "- Month\n",
    "- Day\n",
    "- Day of the Week\n",
    "- Hour\n"
   ]
  },
  {
   "cell_type": "code",
   "execution_count": 20,
   "id": "racial-complaint",
   "metadata": {
    "execution": {
     "iopub.execute_input": "2021-04-27T21:48:36.897189Z",
     "iopub.status.busy": "2021-04-27T21:48:36.896035Z",
     "iopub.status.idle": "2021-04-27T21:48:36.899392Z",
     "shell.execute_reply": "2021-04-27T21:48:36.898797Z"
    },
    "papermill": {
     "duration": 0.051846,
     "end_time": "2021-04-27T21:48:36.899623",
     "exception": false,
     "start_time": "2021-04-27T21:48:36.847777",
     "status": "completed"
    },
    "tags": []
   },
   "outputs": [],
   "source": [
    "class DateTimeExtraction(BaseEstimator, TransformerMixin):\n",
    "    def __init__(self):\n",
    "        pass\n",
    "    \n",
    "    def fit(self, X, y=None):\n",
    "        return self\n",
    "    \n",
    "    def transform(self, X):\n",
    "        \"\"\"\n",
    "        This transformer extracts temporal features from the 'key' attribute and enhances the dataset.\n",
    "        \n",
    "        Parameters:\n",
    "        - X (DataFrame): Input DataFrame containing the 'key' attribute in datetime format.\n",
    "        \n",
    "        Returns:\n",
    "        - X (DataFrame): Transformed DataFrame with additional temporal features.\n",
    "        \"\"\"\n",
    "        X['key'] = pd.to_datetime(X.key, format=\"%Y-%m-%d %H:%M:%S\")\n",
    "        X['year'] = X.key.dt.year\n",
    "        X['month'] = ADD CODE HERE\n",
    "        X['day'] = ADD CODE HERE\n",
    "        X['dayOfTheWeek'] = ADD CODE HERE\n",
    "        X[\"hour\"] = ADD CODE HERE\n",
    "        X.drop(\"pickup_datetime\", axis=1, inplace=True)\n",
    "        return X   \n"
   ]
  },
  {
   "cell_type": "markdown",
   "id": "contrary-shoulder",
   "metadata": {
    "papermill": {
     "duration": 0.041443,
     "end_time": "2021-04-27T21:48:36.981854",
     "exception": false,
     "start_time": "2021-04-27T21:48:36.940411",
     "status": "completed"
    },
    "tags": []
   },
   "source": [
    "#### 2.2.2 Airport pickup and dropoff\n",
    "As mentionned earlier, NYC has 3 airports. We all now that taxis pick and drop passangers frequently from these kind of locations. So for each airport we will add 2 columnes: pick_up and drop_off."
   ]
  },
  {
   "cell_type": "code",
   "execution_count": 21,
   "id": "incomplete-league",
   "metadata": {
    "execution": {
     "iopub.execute_input": "2021-04-27T21:48:37.072054Z",
     "iopub.status.busy": "2021-04-27T21:48:37.071356Z",
     "iopub.status.idle": "2021-04-27T21:48:37.075023Z",
     "shell.execute_reply": "2021-04-27T21:48:37.074345Z"
    },
    "papermill": {
     "duration": 0.051776,
     "end_time": "2021-04-27T21:48:37.075163",
     "exception": false,
     "start_time": "2021-04-27T21:48:37.023387",
     "status": "completed"
    },
    "tags": []
   },
   "outputs": [],
   "source": [
    "#nyc_airports coordinates\n",
    "nyc_airports={'JFK':{'min_lng':-73.835,\n",
    "                     'min_lat':40.619,\n",
    "                     'max_lng':-73.740, \n",
    "                     'max_lat':40.665},\n",
    "              \n",
    "              'EWR':{'min_lng':-74.192,\n",
    "                     'min_lat':40.670, \n",
    "                     'max_lng':-74.153, \n",
    "                     'max_lat':40.708},\n",
    "              \n",
    "        'LaGuardia':{'min_lng':-73.889, \n",
    "                     'min_lat':40.766, \n",
    "                     'max_lng':-73.855, \n",
    "                     'max_lat':40.793}\n",
    "                }"
   ]
  },
  {
   "cell_type": "code",
   "execution_count": 22,
   "id": "continent-bridges",
   "metadata": {
    "execution": {
     "iopub.execute_input": "2021-04-27T21:48:37.163844Z",
     "iopub.status.busy": "2021-04-27T21:48:37.162849Z",
     "iopub.status.idle": "2021-04-27T21:48:37.165769Z",
     "shell.execute_reply": "2021-04-27T21:48:37.166250Z"
    },
    "papermill": {
     "duration": 0.050263,
     "end_time": "2021-04-27T21:48:37.166455",
     "exception": false,
     "start_time": "2021-04-27T21:48:37.116192",
     "status": "completed"
    },
    "tags": []
   },
   "outputs": [],
   "source": [
    "def is_airport_pickup_dropoff(latitude, longitude, airport_coordinates):\n",
    "    \"\"\"\n",
    "    This function assigns 1 if the given coordinates represent a pickup or dropoff from a specified airport.\n",
    "\n",
    "    Parameters:\n",
    "    - latitude (float): Latitude of the location.\n",
    "    - longitude (float): Longitude of the location.\n",
    "    - airport_coordinates (dict): Dictionary containing the boundaries of the airport.\n",
    "\n",
    "    Returns:\n",
    "    - int: 1 if it's a pickup or dropoff from the specified airport, 0 otherwise.\n",
    "    \"\"\"\n",
    "    if (latitude >= airport_coordinates['min_lat'] and\n",
    "        latitude <= airport_coordinates['max_lat'] and\n",
    "        longitude >= airport_coordinates['min_lng'] and\n",
    "        longitude <= airport_coordinates['max_lng']):\n",
    "        return 1\n",
    "    else:\n",
    "        return 0\n"
   ]
  },
  {
   "cell_type": "code",
   "execution_count": 23,
   "id": "neither-release",
   "metadata": {
    "execution": {
     "iopub.execute_input": "2021-04-27T21:48:37.258654Z",
     "iopub.status.busy": "2021-04-27T21:48:37.257959Z",
     "iopub.status.idle": "2021-04-27T21:48:37.260491Z",
     "shell.execute_reply": "2021-04-27T21:48:37.259998Z"
    },
    "papermill": {
     "duration": 0.05304,
     "end_time": "2021-04-27T21:48:37.260651",
     "exception": false,
     "start_time": "2021-04-27T21:48:37.207611",
     "status": "completed"
    },
    "tags": []
   },
   "outputs": [],
   "source": [
    "class AirportData(BaseEstimator, TransformerMixin):\n",
    "    \"\"\"\n",
    "    A custom transformer to add columns indicating whether a trip involves pickup or dropoff at specific airports.\n",
    "    \"\"\"\n",
    "    def __init__(self):\n",
    "        pass\n",
    "    \n",
    "    def fit(self, X, y=None):\n",
    "        return self\n",
    "    \n",
    "    def transform(self, X):\n",
    "        \"\"\"\n",
    "        Transform the DataFrame by adding columns for airport pickup and dropoff indicators.\n",
    "\n",
    "        Parameters:\n",
    "        - X (DataFrame): The input DataFrame.\n",
    "\n",
    "        Returns:\n",
    "        - DataFrame: The transformed DataFrame with added airport pickup and dropoff columns.\n",
    "        \"\"\"\n",
    "        X['pick_up_JFK'] = X.apply(lambda row: is_airport_pickup_dropoff(row['pickup_latitude'], row['pickup_longitude'], 'JFK'), axis=1)\n",
    "        X['dropoff_JFK'] = X.apply(lambda row: is_airport_pickup_dropoff(row['dropoff_latitude'], row['dropoff_longitude'], 'JFK'), axis=1)\n",
    "        X['pickup_EWR'] = X.apply(lambda row: is_airport_pickup_dropoff(row['pickup_latitude'], row['pickup_longitude'], 'EWR'), axis=1)\n",
    "        X['dropoff_EWR'] = X.apply(lambda row: is_airport_pickup_dropoff(row['dropoff_latitude'], row['dropoff_longitude'], 'EWR'), axis=1)\n",
    "        X['pickup_la_guardia'] = X.apply(lambda row: is_airport_pickup_dropoff(row['pickup_latitude'], row['pickup_longitude'], 'LaGuardia'), axis=1)\n",
    "        X['dropoff_la_guardia'] = X.apply(lambda row: is_airport_pickup_dropoff(row['dropoff_latitude'], row['dropoff_longitude'], 'LaGuardia'), axis=1)\n",
    "        return X"
   ]
  },
  {
   "cell_type": "markdown",
   "id": "suited-titanium",
   "metadata": {
    "papermill": {
     "duration": 0.040526,
     "end_time": "2021-04-27T21:48:37.342021",
     "exception": false,
     "start_time": "2021-04-27T21:48:37.301495",
     "status": "completed"
    },
    "tags": []
   },
   "source": [
    "#### 2.2.3 Distance\n",
    "Incorporating distance-related features is crucial for enhancing our model's predictive capabilities. To achieve this, we introduce the following essential metrics:\n",
    "\n",
    "- **Trip Distance:** Calculated using the Haversine formula, the trip distance represents the geographical distance between the pickup and dropoff locations.\n",
    "\n",
    "- **Latitude Distance:** This feature captures the difference in latitude between the dropoff and pickup points, providing insights into the north-south span of the trip.\n",
    "\n",
    "- **Longitude Distance:** Similarly, the longitude distance signifies the east-west variation between the dropoff and pickup coordinates, aiding in understanding the lateral extent of the journey.\n",
    "\n",
    "By integrating these distance-related features, we aim to empower our model with valuable spatial information, contributing to a more comprehensive representation of the taxi trips in our dataset."
   ]
  },
  {
   "cell_type": "code",
   "execution_count": 1,
   "id": "joint-education",
   "metadata": {
    "execution": {
     "iopub.execute_input": "2021-04-27T21:48:37.431906Z",
     "iopub.status.busy": "2021-04-27T21:48:37.430860Z",
     "iopub.status.idle": "2021-04-27T21:48:37.434344Z",
     "shell.execute_reply": "2021-04-27T21:48:37.433790Z"
    },
    "papermill": {
     "duration": 0.051524,
     "end_time": "2021-04-27T21:48:37.434495",
     "exception": false,
     "start_time": "2021-04-27T21:48:37.382971",
     "status": "completed"
    },
    "tags": []
   },
   "outputs": [],
   "source": [
    "# Haversine Formula for Trip Distance Calculation\n",
    "\n",
    "# The Haversine formula, implemented in the provided function, is a fundamental method for estimating distances \n",
    "# between two points on the Earth's surface using their latitudinal and longitudinal coordinates. Below is a breakdown \n",
    "# of the formula's components:\n",
    "\n",
    "def trip_distance(lat1, lat2, lon1, lon2):\n",
    "    p = 0.017453292519943295  # Pi/180\n",
    "    a = 0.5 - np.cos((lat2 - lat1) * p) / 2 + np.cos(lat1 * p) * np.cos(lat2 * p) * (1 - np.cos((lon2 - lon1) * p)) / 2\n",
    "    return 0.6213712 * 12742 * np.arcsin(np.sqrt(a))\n",
    "\n",
    "# - **p (Pi/180):** Conversion factor from degrees to radians.\n",
    "# - **a:** Intermediate calculation involving the Haversine formula.\n",
    "# - **0.6213712 * 12742:** Constants for converting the result to miles. (0.6213712 for miles, 12742 for Earth's diameter in km)\n",
    "# - **np.arcsin(np.sqrt(a)):** Inverse Haversine calculation."
   ]
  },
  {
   "cell_type": "code",
   "execution_count": 25,
   "id": "seventh-damage",
   "metadata": {
    "execution": {
     "iopub.execute_input": "2021-04-27T21:48:37.523585Z",
     "iopub.status.busy": "2021-04-27T21:48:37.522857Z",
     "iopub.status.idle": "2021-04-27T21:48:37.529452Z",
     "shell.execute_reply": "2021-04-27T21:48:37.529981Z"
    },
    "papermill": {
     "duration": 0.054,
     "end_time": "2021-04-27T21:48:37.530165",
     "exception": false,
     "start_time": "2021-04-27T21:48:37.476165",
     "status": "completed"
    },
    "tags": []
   },
   "outputs": [],
   "source": [
    "class DistanceFeatureEngineering(BaseEstimator, TransformerMixin):\n",
    "    def __init__(self):\n",
    "        pass\n",
    "    \n",
    "    def fit(self, X, y=None):\n",
    "        return self\n",
    "    \n",
    "    def transform(self, X):\n",
    "        # Adding the trip_distance feature using the Haversine formula\n",
    "        X['trip_distance'] = X.apply(lambda row: trip_distance(row['pickup_latitude'], row['dropoff_latitude'], row['pickup_longitude'], row['dropoff_longitude']), axis=1)\n",
    "        \n",
    "        # Calculating the absolute difference in latitude and longitude\n",
    "        X[\"diff_lat\"] = abs(X.pickup_latitude - X.dropoff_latitude)\n",
    "        X[\"diff_long\"] = abs(X.pickup_longitude - X.dropoff_longitude)\n",
    "        \n",
    "        return X\n"
   ]
  },
  {
   "cell_type": "markdown",
   "id": "amazing-protein",
   "metadata": {
    "papermill": {
     "duration": 0.042386,
     "end_time": "2021-04-27T21:48:37.614827",
     "exception": false,
     "start_time": "2021-04-27T21:48:37.572441",
     "status": "completed"
    },
    "tags": []
   },
   "source": [
    "# 2.3 Data Normalization\n",
    "\n",
    "In this section, we focus on the normalization of our dataset. With all the engineered features in place, normalization becomes essential to ensure uniform scaling across the various attributes, facilitating efficient and expedited model training. The process involves standardizing the feature values, reducing the data size, and optimizing computational resources for faster model training."
   ]
  },
  {
   "cell_type": "code",
   "execution_count": 26,
   "id": "through-nowhere",
   "metadata": {
    "execution": {
     "iopub.execute_input": "2021-04-27T21:48:37.703901Z",
     "iopub.status.busy": "2021-04-27T21:48:37.703119Z",
     "iopub.status.idle": "2021-04-27T21:48:37.711159Z",
     "shell.execute_reply": "2021-04-27T21:48:37.711722Z"
    },
    "papermill": {
     "duration": 0.054254,
     "end_time": "2021-04-27T21:48:37.711940",
     "exception": false,
     "start_time": "2021-04-27T21:48:37.657686",
     "status": "completed"
    },
    "tags": []
   },
   "outputs": [],
   "source": [
    "class Normalization(BaseEstimator, TransformerMixin):\n",
    "    def __init__(self):\n",
    "        pass\n",
    "    \n",
    "    def fit(self, X, y=None):\n",
    "        return self\n",
    "    \n",
    "    def transform(self, X):\n",
    "        # Normalizing the 'year' attribute\n",
    "        X.year = (X.year - 2009)\n",
    "        max_year = X.year.max()\n",
    "        X.year = X.year / max_year\n",
    "\n",
    "        # Normalizing the 'month' attribute\n",
    "        X.month = X.month + X.year * 12\n",
    "        max_month = X.month.max()\n",
    "        X.month = X.month / max_month\n",
    "\n",
    "        # Normalizing the 'day' attribute\n",
    "        max_day = X.day.max()\n",
    "        X.day = X.day / max_day\n",
    "\n",
    "        # Normalizing the 'hour' attribute\n",
    "        max_hour = X.hour.max()\n",
    "        X.hour = X.hour / max_hour\n",
    "\n",
    "        # Normalizing latitude and longitude attributes\n",
    "        X.pickup_latitude = coordinates['max_lat'] - X.pickup_latitude\n",
    "        X.dropoff_latitude = coordinates['max_lat'] - X.dropoff_latitude\n",
    "        X.pickup_longitude = coordinates['max_long'] - X.pickup_longitude\n",
    "        X.dropoff_longitude = coordinates['max_long'] - X.dropoff_longitude\n",
    "        \n",
    "        return X"
   ]
  },
  {
   "cell_type": "markdown",
   "id": "0e9538fa",
   "metadata": {},
   "source": [
    "## **Normalization and Its Importance**\n",
    "\n",
    "Normalization is a crucial preprocessing step in machine learning, especially when dealing with features that have different scales or units. It involves transforming the numerical attributes of a dataset to a standard scale, making it easier for machine learning algorithms to converge during training. Here's a brief overview of normalization and its significance:\n",
    "\n",
    "### **What is Normalization?**\n",
    "Normalization is the process of scaling and centering numerical features to a standard range. The most common normalization technique is Min-Max scaling, where each value is transformed into a scale between 0 and 1.\n",
    "\n",
    "### **Importance of Normalization:**\n",
    "1. **Equal Treatment of Features:**\n",
    "   - Normalization ensures that all features contribute equally to the learning process. Features with larger scales or magnitudes might dominate the learning algorithm, leading to biased model outcomes.\n",
    "\n",
    "2. **Convergence during Training:**\n",
    "   - Machine learning algorithms, such as gradient-based optimization methods, converge faster when features are normalized. It helps prevent convergence issues and accelerates the learning process.\n",
    "\n",
    "3. **Improved Model Performance:**\n",
    "   - Normalization often results in improved model performance by providing a consistent scale for features. This is especially crucial for distance-based algorithms, such as k-nearest neighbors, support vector machines, and clustering algorithms.\n",
    "\n",
    "4. **Enhanced Interpretability:**\n",
    "   - Normalization facilitates easier interpretation of model coefficients. When features are on a similar scale, it becomes simpler to analyze the impact of each feature on the model's predictions.\n",
    "\n",
    "### **Normalization Techniques:**\n",
    "1. **Min-Max Scaling:**\n",
    "   - Scales values to a range between 0 and 1 based on the minimum and maximum values in the dataset.\n",
    "\n",
    "2. **Z-Score (Standardization):**\n",
    "   - Standardizes values by subtracting the mean and dividing by the standard deviation. The resulting distribution has a mean of 0 and a standard deviation of 1.\n",
    "\n",
    "3. **Robust Scaling:**\n",
    "   - Similar to Min-Max scaling but uses the interquartile range (IQR) instead of the range, making it robust to outliers.\n",
    "\n",
    "### **Implementation in Machine Learning:**\n",
    "1. **Normalization in Pipelines:**\n",
    "   - Normalization is often integrated into machine learning pipelines as a preprocessing step. Custom transformers, such as the one defined in the code snippet, are created for this purpose.\n",
    "\n",
    "2. **Applicability Across Algorithms:**\n",
    "   - Normalization benefits various machine learning algorithms, including linear regression, support vector machines, neural networks, and k-nearest neighbors.\n",
    "\n",
    "In summary, normalization is a fundamental data preprocessing technique that contributes to the stability, efficiency, and interpretability of machine learning models. It ensures that models can effectively learn patterns from diverse features, leading to more accurate and reliable predictions."
   ]
  },
  {
   "cell_type": "markdown",
   "id": "digital-consumption",
   "metadata": {
    "papermill": {
     "duration": 0.041558,
     "end_time": "2021-04-27T21:48:37.797343",
     "exception": false,
     "start_time": "2021-04-27T21:48:37.755785",
     "status": "completed"
    },
    "tags": []
   },
   "source": [
    "### 2.4 Data Processing pipeline:\n"
   ]
  },
  {
   "cell_type": "code",
   "execution_count": 27,
   "id": "public-prime",
   "metadata": {
    "execution": {
     "iopub.execute_input": "2021-04-27T21:48:37.886987Z",
     "iopub.status.busy": "2021-04-27T21:48:37.886104Z",
     "iopub.status.idle": "2021-04-27T21:48:37.892148Z",
     "shell.execute_reply": "2021-04-27T21:48:37.891459Z"
    },
    "papermill": {
     "duration": 0.052037,
     "end_time": "2021-04-27T21:48:37.892299",
     "exception": false,
     "start_time": "2021-04-27T21:48:37.840262",
     "status": "completed"
    },
    "tags": []
   },
   "outputs": [],
   "source": [
    "Data_processing_pipeline = Pipeline([\n",
    "    ('cleaning', DataCleaning()),\n",
    "    ('Date and time extraction', DateTimeExtraction()),\n",
    "    ('Pick up or drop off in an airport', AirportData()),\n",
    "    ('usefull distances', DistanceFeatureEngineering()),\n",
    "    ('Normalization', Normalization())   \n",
    "])"
   ]
  },
  {
   "cell_type": "code",
   "execution_count": null,
   "id": "portable-medication",
   "metadata": {
    "execution": {
     "iopub.execute_input": "2021-04-27T21:48:37.987239Z",
     "iopub.status.busy": "2021-04-27T21:48:37.986190Z",
     "iopub.status.idle": "2021-04-27T21:55:19.351412Z",
     "shell.execute_reply": "2021-04-27T21:55:19.352286Z"
    },
    "papermill": {
     "duration": 401.415815,
     "end_time": "2021-04-27T21:55:19.352585",
     "exception": false,
     "start_time": "2021-04-27T21:48:37.936770",
     "status": "completed"
    },
    "tags": []
   },
   "outputs": [],
   "source": [
    "# Transform the training data using the data processing pipeline\n",
    "X_train = ADD CODE HERE\n",
    "\n",
    "# Copy the target variable (fare_amount) to labels and drop it from the training set\n",
    "labels = ADD CODE HERE\n",
    "X_train = ADD CODE HERE  # Drop labels and key for training set\n",
    "\n",
    "# Transform the test data using the data processing pipeline and drop the key column\n",
    "X_test = ADD CODE HERE\n",
    "X_test = X_test.drop(\"key\", axis=1)\n",
    "\n",
    "# Remove the original train and test datasets from memory\n",
    "del train, test\n"
   ]
  },
  {
   "cell_type": "markdown",
   "id": "expensive-gospel",
   "metadata": {
    "papermill": {
     "duration": 0.04585,
     "end_time": "2021-04-27T21:55:19.451052",
     "exception": false,
     "start_time": "2021-04-27T21:55:19.405202",
     "status": "completed"
    },
    "tags": []
   },
   "source": [
    "## **3. Training, Predictions, and Submitting Results**\n",
    "\n",
    "### 3.1 Training\n",
    "\n",
    "Here we use RandomForestRegressor due to its simplicity and satisfactory performance. However, training a single model on the entire dataset might be time-consuming due to its substantial size. As an exercise, follow the same pattern used in the previous notebook, select different models and select the best model. \n"
   ]
  },
  {
   "cell_type": "code",
   "execution_count": 29,
   "id": "approved-specific",
   "metadata": {
    "execution": {
     "iopub.execute_input": "2021-04-27T21:55:19.547472Z",
     "iopub.status.busy": "2021-04-27T21:55:19.546418Z",
     "iopub.status.idle": "2021-04-27T21:55:19.548980Z",
     "shell.execute_reply": "2021-04-27T21:55:19.549430Z"
    },
    "papermill": {
     "duration": 0.051949,
     "end_time": "2021-04-27T21:55:19.549631",
     "exception": false,
     "start_time": "2021-04-27T21:55:19.497682",
     "status": "completed"
    },
    "tags": []
   },
   "outputs": [],
   "source": [
    "param_grid = [\n",
    "    {'n_estimators': [3, 10, 30, 40, 50], 'max_features': [2, 6, 8]},\n",
    "    {'bootstrap': [False], 'n_estimators': [3, 10], 'max_features': [2, 3, 4]}\n",
    "]\n"
   ]
  },
  {
   "cell_type": "markdown",
   "id": "f50cb258",
   "metadata": {},
   "source": [
    "#### Performance Metric: Mean Squared Error (MSE)\n",
    "\n",
    "Mean Squared Error (MSE) is a commonly used metric in regression analysis to evaluate the average squared difference between the actual and predicted values. It provides a measure of the model's accuracy in predicting continuous numeric outcomes. Mathematically, Mean Squared Error (MSE) is calculated by taking the average of the squared differences between the actual y values (y_i) and the predicted values (ŷ_i) for all n observations:\n",
    "\n",
    "MSE = (1/n) * Σ(y_i - ŷ_i)^2\n",
    "\n",
    "where:\n",
    "- n is the total number of observations.\n",
    "- y_i is the actual value of the target variable for the i-th observation.\n",
    "- ŷ_i is the predicted value of the target variable for the i-th observation.\n",
    "\n",
    "**Interpreting Mean Squared Error (MSE):**\n",
    "\n",
    "- A lower MSE indicates that the model's predictions are closer to the actual values, implying better predictive performance.\n",
    "- Conversely, a higher MSE suggests that the model's predictions deviate more from the actual values, indicating poorer performance.\n",
    "\n",
    "**Considerations and Limitations:**\n",
    "\n",
    "- MSE is sensitive to outliers, as it squares the differences between the actual and predicted values. Therefore, large errors have a disproportionate impact on the overall metric.\n",
    "- While MSE provides a measure of accuracy, it may not always be intuitive to interpret, especially in real-world scenarios where the units of the target variable may vary widely.\n",
    "\n",
    "In summary, Mean Squared Error is a valuable metric for assessing the accuracy of regression models, providing insights into the model's ability to make accurate predictions. However, it should be used in conjunction with other evaluation metrics and interpreted carefully in the context of the specific problem domain."
   ]
  },
  {
   "cell_type": "code",
   "execution_count": 30,
   "id": "seasonal-inflation",
   "metadata": {
    "execution": {
     "iopub.execute_input": "2021-04-27T21:55:19.645409Z",
     "iopub.status.busy": "2021-04-27T21:55:19.644365Z",
     "iopub.status.idle": "2021-04-27T21:55:19.649323Z",
     "shell.execute_reply": "2021-04-27T21:55:19.649825Z"
    },
    "papermill": {
     "duration": 0.05484,
     "end_time": "2021-04-27T21:55:19.650010",
     "exception": false,
     "start_time": "2021-04-27T21:55:19.595170",
     "status": "completed"
    },
    "tags": []
   },
   "outputs": [],
   "source": [
    "#loading model\n",
    "forest_reg = RandomForestRegressor()\n",
    "# grid search to determine the best set of HP using grid search and 5 folders for cross validation\n",
    "grid_search = GridSearchCV(forest_reg, param_grid, cv=5,\n",
    "                          scoring = 'neg_mean_squared_error',\n",
    "                          return_train_score=True)"
   ]
  },
  {
   "cell_type": "code",
   "execution_count": 31,
   "id": "informational-madison",
   "metadata": {
    "execution": {
     "iopub.execute_input": "2021-04-27T21:55:19.741770Z",
     "iopub.status.busy": "2021-04-27T21:55:19.741020Z",
     "iopub.status.idle": "2021-04-28T04:16:42.626586Z",
     "shell.execute_reply": "2021-04-28T04:16:42.627156Z"
    },
    "papermill": {
     "duration": 22882.934866,
     "end_time": "2021-04-28T04:16:42.627553",
     "exception": false,
     "start_time": "2021-04-27T21:55:19.692687",
     "status": "completed"
    },
    "tags": []
   },
   "outputs": [
    {
     "data": {
      "text/plain": [
       "{'max_features': 6, 'n_estimators': 50}"
      ]
     },
     "execution_count": 31,
     "metadata": {},
     "output_type": "execute_result"
    }
   ],
   "source": [
    "#fitting and selecting best set of parameters\n",
    "grid_search.fit(X_train, labels)\n",
    "best_model = grid_search.best_estimator_\n",
    "grid_search.best_params_"
   ]
  },
  {
   "cell_type": "markdown",
   "id": "fallen-comfort",
   "metadata": {
    "papermill": {
     "duration": 0.044081,
     "end_time": "2021-04-28T04:16:42.714982",
     "exception": false,
     "start_time": "2021-04-28T04:16:42.670901",
     "status": "completed"
    },
    "tags": []
   },
   "source": [
    "#### 3.2 Predictions"
   ]
  },
  {
   "cell_type": "code",
   "execution_count": 32,
   "id": "adult-cleveland",
   "metadata": {
    "execution": {
     "iopub.execute_input": "2021-04-28T04:16:42.806660Z",
     "iopub.status.busy": "2021-04-28T04:16:42.805874Z",
     "iopub.status.idle": "2021-04-28T04:16:43.740711Z",
     "shell.execute_reply": "2021-04-28T04:16:43.740092Z"
    },
    "papermill": {
     "duration": 0.982552,
     "end_time": "2021-04-28T04:16:43.740885",
     "exception": false,
     "start_time": "2021-04-28T04:16:42.758333",
     "status": "completed"
    },
    "tags": []
   },
   "outputs": [],
   "source": [
    "final_predictions = best_model.predict(X_test)"
   ]
  },
  {
   "cell_type": "markdown",
   "id": "apart-contents",
   "metadata": {
    "papermill": {
     "duration": 0.045154,
     "end_time": "2021-04-28T04:16:43.829243",
     "exception": false,
     "start_time": "2021-04-28T04:16:43.784089",
     "status": "completed"
    },
    "tags": []
   },
   "source": [
    "#### 3.3 Submitting results\n"
   ]
  },
  {
   "cell_type": "code",
   "execution_count": 33,
   "id": "earned-amendment",
   "metadata": {
    "execution": {
     "iopub.execute_input": "2021-04-28T04:16:43.920821Z",
     "iopub.status.busy": "2021-04-28T04:16:43.920114Z",
     "iopub.status.idle": "2021-04-28T04:16:44.010915Z",
     "shell.execute_reply": "2021-04-28T04:16:44.010273Z"
    },
    "papermill": {
     "duration": 0.138015,
     "end_time": "2021-04-28T04:16:44.011080",
     "exception": false,
     "start_time": "2021-04-28T04:16:43.873065",
     "status": "completed"
    },
    "tags": []
   },
   "outputs": [],
   "source": [
    "SS = pd.read_csv(\"sample_submission.csv\")\n",
    "SS['fare_amount']= final_predictions\n",
    "SS.to_csv('SS.csv',index=False)"
   ]
  },
  {
   "cell_type": "markdown",
   "id": "8d97e274",
   "metadata": {},
   "source": [
    "## Exercises:\n",
    "1. Expolore more visualization techniques.\n",
    "2. Try different features.\n",
    "3. Test different models.\n",
    "4. Observe feature importance and correlations then deduce."
   ]
  },
  {
   "cell_type": "markdown",
   "id": "5b9bcc2c",
   "metadata": {},
   "source": []
  }
 ],
 "metadata": {
  "kernelspec": {
   "display_name": "Python 3",
   "language": "python",
   "name": "python3"
  },
  "language_info": {
   "codemirror_mode": {
    "name": "ipython",
    "version": 3
   },
   "file_extension": ".py",
   "mimetype": "text/x-python",
   "name": "python",
   "nbconvert_exporter": "python",
   "pygments_lexer": "ipython3",
   "version": "3.11.6"
  },
  "papermill": {
   "default_parameters": {},
   "duration": 23312.991024,
   "end_time": "2021-04-28T04:16:46.819117",
   "environment_variables": {},
   "exception": null,
   "input_path": "__notebook__.ipynb",
   "output_path": "__notebook__.ipynb",
   "parameters": {},
   "start_time": "2021-04-27T21:48:13.828093",
   "version": "2.3.3"
  }
 },
 "nbformat": 4,
 "nbformat_minor": 5
}
